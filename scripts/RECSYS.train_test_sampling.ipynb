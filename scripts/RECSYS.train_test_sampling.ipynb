{
 "cells": [
  {
   "cell_type": "code",
   "execution_count": 1,
   "metadata": {},
   "outputs": [],
   "source": [
    "import pandas as pd\n",
    "import numpy as np\n",
    "from scipy.io import mmwrite\n",
    "from scipy.io import mmread\n",
    "from scipy.sparse import csr_matrix\n",
    "import requests\n",
    "import implicit\n",
    "from tqdm import tqdm\n",
    "\n",
    "import gc\n",
    "import json\n",
    "import os"
   ]
  },
  {
   "cell_type": "code",
   "execution_count": 2,
   "metadata": {},
   "outputs": [],
   "source": [
    "GITHUB_KEY = \"../credentials/github.txt\"\n",
    "if os.path.exists(GITHUB_KEY):\n",
    "    with open(GITHUB_KEY, 'r') as f:\n",
    "        api_key = f.readline()        \n",
    "        headers = {\"Authorization\": \"bearer \" + api_key.strip()}\n",
    "\n",
    "def repo_meta_api(item_id):\n",
    "    GITHUB_URL = \"https://api.github.com/repositories/%s\"%item_id\n",
    "    res = requests.get(GITHUB_URL, headers=headers)\n",
    "\n",
    "    if res.status_code == 200:\n",
    "        print(json.loads(res.text)['full_name'])"
   ]
  },
  {
   "cell_type": "markdown",
   "metadata": {},
   "source": [
    "### Set problem\n",
    "1. Split actors into train(90%) and test(10%).\n",
    "2. For each test actor, count the number of action withour considering the type\n",
    "3. Mask the half of the repos by random for each actor: they are the answers to predict\n",
    "4. Repos which are not masked are actors to train for predicting"
   ]
  },
  {
   "cell_type": "markdown",
   "metadata": {},
   "source": [
    "**train test splitting(9:1)**"
   ]
  },
  {
   "cell_type": "code",
   "execution_count": 3,
   "metadata": {},
   "outputs": [
    {
     "name": "stdout",
     "output_type": "stream",
     "text": [
      "CPU times: user 17.4 s, sys: 1.09 s, total: 18.5 s\n",
      "Wall time: 11.3 s\n"
     ]
    },
    {
     "data": {
      "text/plain": [
       "((17080512, 4), (1898520, 4))"
      ]
     },
     "execution_count": 3,
     "metadata": {},
     "output_type": "execute_result"
    }
   ],
   "source": [
    "%%time\n",
    "df_raw = pd.read_pickle('tf_related.pkl')\n",
    "\n",
    "from sklearn.model_selection import train_test_split\n",
    "# 9:1 splitby user\n",
    "actors = df_raw.actor_id.drop_duplicates()\n",
    "train, test = train_test_split(actors, test_size=0.1, random_state = 85)\n",
    "\n",
    "train_df = df_raw[df_raw.actor_id.isin(train)]\n",
    "test_df = df_raw[df_raw.actor_id.isin(test)]\n",
    "\n",
    "train_df.shape, test_df.shape"
   ]
  },
  {
   "cell_type": "code",
   "execution_count": 4,
   "metadata": {},
   "outputs": [
    {
     "name": "stderr",
     "output_type": "stream",
     "text": [
      "100%|██████████| 105341/105341 [04:09<00:00, 422.23it/s]\n"
     ]
    },
    {
     "name": "stdout",
     "output_type": "stream",
     "text": [
      "CPU times: user 7min 19s, sys: 9.05 s, total: 7min 28s\n",
      "Wall time: 7min 26s\n"
     ]
    }
   ],
   "source": [
    "%%time\n",
    "test_problem = []\n",
    "test_answer = []\n",
    "for actor_id, group in tqdm(test_df.groupby('actor_id')):\n",
    "    # take unique repo ids and shuffle them\n",
    "    temp_repos = group.repo_id.drop_duplicates().sample(frac=1, random_state=85)\n",
    "    # half of the repos are answer and rests are problem. if #repo is odd, assign the last one repo to problem\n",
    "    answers = temp_repos.head(len(temp_repos)//2)\n",
    "    test_answer.append(group[group.repo_id.isin(answers)])\n",
    "    test_problem.append(group[~group.repo_id.isin(answers)])\n",
    "test_df = pd.concat(test_problem)\n",
    "test_answer = pd.concat(test_answer)"
   ]
  },
  {
   "cell_type": "code",
   "execution_count": 5,
   "metadata": {},
   "outputs": [],
   "source": [
    "def answer_generator(test_answer):\n",
    "    answer = {}\n",
    "    for actor_id, group in tqdm(test_answer.groupby('actor_id')):\n",
    "        answer[actor_id] = group.groupby('repo_id')['count'].sum().sort_values(ascending=False).index.tolist()\n",
    "        \n",
    "    answer_df = pd.Series(answer).reset_index()\n",
    "    answer_df.columns = ['actor_id', 'repo_answer']\n",
    "\n",
    "    print(\"Answer generated\")\n",
    "    return answer_df"
   ]
  },
  {
   "cell_type": "code",
   "execution_count": 6,
   "metadata": {},
   "outputs": [
    {
     "name": "stderr",
     "output_type": "stream",
     "text": [
      "100%|██████████| 82810/82810 [02:04<00:00, 665.49it/s]\n"
     ]
    },
    {
     "name": "stdout",
     "output_type": "stream",
     "text": [
      "Answer generated\n"
     ]
    }
   ],
   "source": [
    "answer_df = answer_generator(test_answer)"
   ]
  },
  {
   "cell_type": "code",
   "execution_count": 7,
   "metadata": {},
   "outputs": [],
   "source": [
    "train_df.to_pickle('train.pkl')\n",
    "test_df.to_pickle('test.pkl')\n",
    "answer_df.to_pickle('answer.pkl')"
   ]
  },
  {
   "cell_type": "code",
   "execution_count": 10,
   "metadata": {},
   "outputs": [
    {
     "data": {
      "text/plain": [
       "(43093, 948069)"
      ]
     },
     "execution_count": 10,
     "metadata": {},
     "output_type": "execute_result"
    }
   ],
   "source": [
    "train_df.repo_id.nunique(), train_df.actor_id.nunique()"
   ]
  },
  {
   "cell_type": "code",
   "execution_count": null,
   "metadata": {},
   "outputs": [],
   "source": [
    "raise"
   ]
  },
  {
   "cell_type": "code",
   "execution_count": null,
   "metadata": {},
   "outputs": [],
   "source": []
  },
  {
   "cell_type": "code",
   "execution_count": null,
   "metadata": {},
   "outputs": [],
   "source": []
  },
  {
   "cell_type": "markdown",
   "metadata": {},
   "source": []
  },
  {
   "cell_type": "code",
   "execution_count": null,
   "metadata": {},
   "outputs": [],
   "source": []
  },
  {
   "cell_type": "code",
   "execution_count": null,
   "metadata": {},
   "outputs": [],
   "source": []
  },
  {
   "cell_type": "code",
   "execution_count": null,
   "metadata": {
    "scrolled": true
   },
   "outputs": [],
   "source": []
  },
  {
   "cell_type": "code",
   "execution_count": null,
   "metadata": {},
   "outputs": [],
   "source": []
  },
  {
   "cell_type": "code",
   "execution_count": null,
   "metadata": {},
   "outputs": [],
   "source": []
  },
  {
   "cell_type": "code",
   "execution_count": null,
   "metadata": {},
   "outputs": [],
   "source": [
    "item_factors = pd.DataFrame(model.item_factors, index = idx2iid.values())\n",
    "user_factors = pd.DataFrame(model.user_factors, index = idx2uid.values())"
   ]
  },
  {
   "cell_type": "code",
   "execution_count": null,
   "metadata": {},
   "outputs": [],
   "source": [
    "user_factors"
   ]
  },
  {
   "cell_type": "code",
   "execution_count": null,
   "metadata": {},
   "outputs": [],
   "source": [
    "item_factors"
   ]
  },
  {
   "cell_type": "code",
   "execution_count": null,
   "metadata": {},
   "outputs": [],
   "source": [
    "for i in item_factors.dot(item_factors.loc[2325298]).nlargest().index:\n",
    "    repo_meta_api(i)"
   ]
  },
  {
   "cell_type": "code",
   "execution_count": null,
   "metadata": {},
   "outputs": [],
   "source": [
    "target_norm = item_factors.loc[2325298]\n",
    "target_norm = target_norm / np.linalg.norm(target_norm)"
   ]
  },
  {
   "cell_type": "code",
   "execution_count": null,
   "metadata": {},
   "outputs": [],
   "source": [
    "item_factors"
   ]
  },
  {
   "cell_type": "code",
   "execution_count": null,
   "metadata": {},
   "outputs": [],
   "source": [
    "item_factor_norms = item_factors.apply(np.linalg.norm, axis=1)"
   ]
  },
  {
   "cell_type": "code",
   "execution_count": null,
   "metadata": {},
   "outputs": [],
   "source": [
    "%%time\n",
    "item_factors_normalized = item_factors.values / item_factor_norms.values.reshape((18232,1))"
   ]
  },
  {
   "cell_type": "code",
   "execution_count": null,
   "metadata": {},
   "outputs": [],
   "source": [
    "item_factors_normalized = pd.DataFrame(item_factors_normalized, index=item_factors.index, columns=item_factors.columns)"
   ]
  },
  {
   "cell_type": "code",
   "execution_count": null,
   "metadata": {},
   "outputs": [],
   "source": [
    "top_100 = item_factors_normalized.dot(target_norm).nlargest(100)\n",
    "\n",
    "for i in top_100.index[:10]:\n",
    "    repo_meta_api(i)"
   ]
  },
  {
   "cell_type": "code",
   "execution_count": null,
   "metadata": {},
   "outputs": [],
   "source": [
    "target_norm = item_factors.loc[45717250]\n",
    "target_norm = target_norm / np.linalg.norm(target_norm)"
   ]
  },
  {
   "cell_type": "code",
   "execution_count": null,
   "metadata": {},
   "outputs": [],
   "source": [
    "top_100 = item_factors_normalized.dot(target_norm).nlargest(100)\n",
    "\n",
    "for i in top_100.index[:10]:\n",
    "    print(i)\n",
    "    repo_meta_api(i)"
   ]
  },
  {
   "cell_type": "code",
   "execution_count": null,
   "metadata": {},
   "outputs": [],
   "source": [
    "item_factors_normalized.to_pickle(\"item_factor_norm.pkl\")"
   ]
  },
  {
   "cell_type": "code",
   "execution_count": null,
   "metadata": {},
   "outputs": [],
   "source": [
    "item_factors_normalized.shape"
   ]
  },
  {
   "cell_type": "code",
   "execution_count": null,
   "metadata": {},
   "outputs": [],
   "source": [
    "item_factors_normalized.dtypes"
   ]
  },
  {
   "cell_type": "code",
   "execution_count": null,
   "metadata": {},
   "outputs": [],
   "source": [
    "target = answer_als[answer_als.actor_id == 14805681].iloc[0]"
   ]
  },
  {
   "cell_type": "code",
   "execution_count": null,
   "metadata": {},
   "outputs": [],
   "source": [
    "for i in target.repo_seen: repo_meta_api(i)"
   ]
  },
  {
   "cell_type": "code",
   "execution_count": null,
   "metadata": {},
   "outputs": [],
   "source": [
    "for i in target.repo_answer: repo_meta_api(i)"
   ]
  },
  {
   "cell_type": "code",
   "execution_count": null,
   "metadata": {},
   "outputs": [],
   "source": [
    "for i in target.repo_recommend: repo_meta_api(i)"
   ]
  },
  {
   "cell_type": "code",
   "execution_count": null,
   "metadata": {},
   "outputs": [],
   "source": [
    "df.repo_id.nunique()"
   ]
  },
  {
   "cell_type": "markdown",
   "metadata": {},
   "source": [
    "### ALS scoring (k=1)"
   ]
  },
  {
   "cell_type": "code",
   "execution_count": null,
   "metadata": {},
   "outputs": [],
   "source": [
    "%%time\n",
    "train_matrix_, model_, idx2iid_, idx2uid_ = als_model_generator(df, 1)\n",
    "df_rec_ = als_rec_generator(df, train_matrix_, model_, idx2iid_, idx2uid_)\n",
    "answer_als_ = answer_df.merge(df_rec_, on='actor_id', how='outer')"
   ]
  },
  {
   "cell_type": "code",
   "execution_count": null,
   "metadata": {},
   "outputs": [],
   "source": [
    "%%time\n",
    "ndcgs_ = []\n",
    "for _, row in tqdm(answer_als_.iterrows()):\n",
    "    if sum(np.isnan(row.repo_answer))>0: continue\n",
    "\n",
    "    if row.repo_recommend != None:\n",
    "        ndcgs_.append(ndcg_calculator(row.repo_answer, row.repo_recommend))\n",
    "    else:\n",
    "        # if no recs, user top as fallback\n",
    "        ndcgs_.append(ndcg_calculator(row.repo_answer, top_repos[:len(row.repo_answer)]))"
   ]
  },
  {
   "cell_type": "code",
   "execution_count": null,
   "metadata": {},
   "outputs": [],
   "source": [
    "print(\"ALS mean nDCG: %.4f\"%(sum(ndcgs_) / len(ndcgs_)))"
   ]
  },
  {
   "cell_type": "code",
   "execution_count": null,
   "metadata": {},
   "outputs": [],
   "source": [
    "idx2iid"
   ]
  },
  {
   "cell_type": "code",
   "execution_count": null,
   "metadata": {},
   "outputs": [],
   "source": [
    "item_factors_ = pd.DataFrame(model_.item_factors, indeax = idx2iid_.values())"
   ]
  },
  {
   "cell_type": "code",
   "execution_count": null,
   "metadata": {},
   "outputs": [],
   "source": [
    "item_factors_.to_pickle(\"als_repo_factor.pkl\")"
   ]
  },
  {
   "cell_type": "code",
   "execution_count": null,
   "metadata": {},
   "outputs": [],
   "source": [
    "item_factors_.shape"
   ]
  },
  {
   "cell_type": "code",
   "execution_count": null,
   "metadata": {},
   "outputs": [],
   "source": [
    "item_factors_.dtypes"
   ]
  },
  {
   "cell_type": "code",
   "execution_count": null,
   "metadata": {},
   "outputs": [],
   "source": [
    "uid2idx_ = {v:k for k, v in idx2uid_.items()}\n",
    "iid2idx_ = {v:k for k, v in idx2iid_.items()}\n",
    "\n",
    "sim_items_ = model_.similar_items(iid2idx_[2325298], 20)\n",
    "for i in range(20):\n",
    "    repo_meta_api(idx2iid_[sim_items_[i][0]])"
   ]
  },
  {
   "cell_type": "code",
   "execution_count": null,
   "metadata": {},
   "outputs": [],
   "source": [
    "uid2idx_ = {v:k for k, v in idx2uid_.items()}\n",
    "iid2idx_ = {v:k for k, v in idx2iid_.items()}\n",
    "\n",
    "sim_items_ = model_.similar_items(iid2idx_[15045751], 20)\n",
    "for i in range(20):\n",
    "    repo_meta_api(idx2iid_[sim_items_[i][0]])"
   ]
  },
  {
   "cell_type": "code",
   "execution_count": null,
   "metadata": {},
   "outputs": [],
   "source": []
  },
  {
   "cell_type": "code",
   "execution_count": null,
   "metadata": {},
   "outputs": [],
   "source": []
  },
  {
   "cell_type": "code",
   "execution_count": null,
   "metadata": {},
   "outputs": [],
   "source": []
  },
  {
   "cell_type": "code",
   "execution_count": null,
   "metadata": {},
   "outputs": [],
   "source": [
    "ndcgs_.index(1)"
   ]
  },
  {
   "cell_type": "code",
   "execution_count": null,
   "metadata": {},
   "outputs": [],
   "source": [
    "ndcgs_series = pd.Series(ndcgs_)"
   ]
  },
  {
   "cell_type": "code",
   "execution_count": null,
   "metadata": {},
   "outputs": [],
   "source": [
    "ndcgs_series[ndcgs_series==1]"
   ]
  },
  {
   "cell_type": "code",
   "execution_count": null,
   "metadata": {},
   "outputs": [],
   "source": [
    "target = answer_als_.iloc[696]\n",
    "target"
   ]
  },
  {
   "cell_type": "code",
   "execution_count": null,
   "metadata": {},
   "outputs": [],
   "source": [
    "repo_meta_api(46806184)"
   ]
  },
  {
   "cell_type": "code",
   "execution_count": null,
   "metadata": {},
   "outputs": [],
   "source": [
    "repo_meta_api(20580498)"
   ]
  },
  {
   "cell_type": "code",
   "execution_count": null,
   "metadata": {},
   "outputs": [],
   "source": [
    "repo_meta_api(32689863)"
   ]
  },
  {
   "cell_type": "code",
   "execution_count": null,
   "metadata": {},
   "outputs": [],
   "source": [
    "answer_als.loc[answer_als.repo_recommend.notna(), 'repo_recommend'].apply(len)"
   ]
  },
  {
   "cell_type": "markdown",
   "metadata": {},
   "source": [
    "### K=1 vs K=5"
   ]
  },
  {
   "cell_type": "code",
   "execution_count": null,
   "metadata": {},
   "outputs": [],
   "source": [
    "k_5 = answer_als[answer_als.repo_recommend.notna()]\n",
    "k_1 = answer_als_[answer_als.repo_recommend.notna()]"
   ]
  },
  {
   "cell_type": "code",
   "execution_count": null,
   "metadata": {
    "scrolled": true
   },
   "outputs": [],
   "source": [
    "%%time\n",
    "ndcgs_1 = []\n",
    "for _, row in tqdm(k_1.iterrows()):\n",
    "    if sum(np.isnan(row.repo_answer))>0: continue\n",
    "\n",
    "    if row.repo_recommend != None:\n",
    "        ndcgs_1.append(ndcg_calculator(row.repo_answer, row.repo_recommend))\n",
    "    else:\n",
    "        # if no recs, user top as fallback\n",
    "        ndcgs_1.append(ndcg_calculator(row.repo_answer, top_repos[:len(row.repo_answer)]))"
   ]
  },
  {
   "cell_type": "code",
   "execution_count": null,
   "metadata": {},
   "outputs": [],
   "source": [
    "sum(ndcgs_1) / len(ndcgs_1)"
   ]
  },
  {
   "cell_type": "code",
   "execution_count": null,
   "metadata": {},
   "outputs": [],
   "source": [
    "%%time\n",
    "ndcgs_5 = []\n",
    "for _, row in tqdm(k_5.iterrows()):\n",
    "    if sum(np.isnan(row.repo_answer))>0: continue\n",
    "\n",
    "    if row.repo_recommend != None:\n",
    "        ndcgs_5.append(ndcg_calculator(row.repo_answer, row.repo_recommend))\n",
    "    else:\n",
    "        # if no recs, user top as fallback\n",
    "        ndcgs_5.append(ndcg_calculator(row.repo_answer, top_repos[:len(row.repo_answer)]))"
   ]
  },
  {
   "cell_type": "code",
   "execution_count": null,
   "metadata": {},
   "outputs": [],
   "source": [
    "sum(ndcgs_5) / len(ndcgs_5)"
   ]
  }
 ],
 "metadata": {
  "kernelspec": {
   "display_name": "Python 3",
   "language": "python",
   "name": "python3"
  },
  "language_info": {
   "codemirror_mode": {
    "name": "ipython",
    "version": 3
   },
   "file_extension": ".py",
   "mimetype": "text/x-python",
   "name": "python",
   "nbconvert_exporter": "python",
   "pygments_lexer": "ipython3",
   "version": "3.7.7"
  }
 },
 "nbformat": 4,
 "nbformat_minor": 2
}
